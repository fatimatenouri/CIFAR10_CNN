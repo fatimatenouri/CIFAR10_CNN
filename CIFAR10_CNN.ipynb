{
 "cells": [
  {
   "cell_type": "code",
   "execution_count": 1,
   "metadata": {
    "id": "s9w3IvqHOJQA"
   },
   "outputs": [],
   "source": [
    "import tensorflow as tf\n",
    "from tensorflow.keras.models import Sequential\n",
    "from tensorflow.keras.layers import Conv2D, MaxPooling2D, Flatten, Dense, Dropout\n",
    "from tensorflow.keras.datasets import cifar10\n",
    "from tensorflow.keras.utils import to_categorical\n",
    "from sklearn.metrics import confusion_matrix, precision_score, recall_score, f1_score, accuracy_score\n",
    "import numpy as np\n",
    "import matplotlib.pyplot as plt\n",
    "import seaborn as sns\n"
   ]
  },
  {
   "cell_type": "markdown",
   "metadata": {},
   "source": [
    "\n",
    "Dans cette section, nous préparons le jeu de données CIFAR-10 pour un problème de classification binaire visant à déterminer si les objets peuvent voler ou non. Les étapes comprennent :\n",
    "\n",
    "1. **Chargement du jeu de données CIFAR-10** : Nous chargeons les ensembles de données d'entraînement et de test.\n",
    "2. **Définition des classes** : Nous définissons deux catégories, \"peut voler\" (comprenant les avions et les oiseaux) et \"ne peut pas voler\" (comprenant toutes les autres classes).\n",
    "3. **Création des étiquettes binaires** : Nous convertissons les étiquettes d'origine en étiquettes binaires, où 1 représente les objets pouvant voler et 0 ceux ne pouvant pas voler.\n",
    "4. **Normalisation des images** : Nous normalisons les valeurs des pixels des images pour qu'elles soient comprises entre 0 et 1.\n",
    "5. **Encodage one-hot des étiquettes** : Nous appliquons un encodage one-hot aux étiquettes binaires pour les préparer à l'entraînement du modèle de réseau de neurones."
   ]
  },
  {
   "cell_type": "code",
   "execution_count": 7,
   "metadata": {
    "id": "cLKtx210PMFY"
   },
   "outputs": [],
   "source": [
    "# Load the CIFAR-10 dataset\n",
    "(x_train, y_train), (x_test, y_test) = cifar10.load_data()\n",
    "\n",
    "# Define the \"can fly\" and \"cannot fly\" classes\n",
    "can_fly = [0, 2]  # airplane, bird\n",
    "cannot_fly = [1, 3, 4, 5, 6, 7, 8, 9]  # automobile, cat, deer, dog, frog, horse, ship, truck\n",
    "\n",
    "# Create binary labels\n",
    "y_train_bin = np.isin(y_train, can_fly).astype(np.int32)\n",
    "y_test_bin = np.isin(y_test, can_fly).astype(np.int32)\n",
    "\n",
    "# Normalize the images\n",
    "x_train = x_train.astype('float32') / 255.0\n",
    "x_test = x_test.astype('float32') / 255.0\n",
    "\n",
    "# One-hot encode the labels\n",
    "y_train_bin = to_categorical(y_train_bin, 2)\n",
    "y_test_bin = to_categorical(y_test_bin, 2)\n"
   ]
  },
  {
   "cell_type": "code",
   "execution_count": 8,
   "metadata": {
    "id": "EpXkP20-PWiZ"
   },
   "outputs": [],
   "source": [
    "model = Sequential([\n",
    "    Conv2D(32, (3, 3), activation='relu', input_shape=(32, 32, 3)),\n",
    "    MaxPooling2D((2, 2)),\n",
    "    Conv2D(64, (3, 3), activation='relu'),\n",
    "    MaxPooling2D((2, 2)),\n",
    "    Conv2D(128, (3, 3), activation='relu'),\n",
    "    MaxPooling2D((2, 2)),\n",
    "    Flatten(),\n",
    "    Dense(128, activation='relu'),\n",
    "    Dropout(0.5),\n",
    "    Dense(2, activation='softmax')\n",
    "])\n",
    "\n",
    "# Compile the model\n",
    "model.compile(optimizer='adam', loss='categorical_crossentropy', metrics=['accuracy'])\n"
   ]
  },
  {
   "cell_type": "markdown",
   "metadata": {},
   "source": [
    "In this section, we define and compile a Convolutional Neural Network (CNN) for classifying images from the CIFAR-10 dataset into two categories: objects that can fly and objects that cannot fly. The CNN model is constructed using the Keras library with TensorFlow as the backend.\n",
    "\n",
    "Defining the CNN Model: The model is built sequentially with several layers:\n",
    "\n",
    "Convolutional Layers: Three Conv2D layers with filter sizes of 32, 64, and 128 respectively, each followed by a MaxPooling2D layer. These layers extract important features from the images.\n",
    "Dense Layers: A Dense layer with 128 neurons and ReLU activation to perform nonlinear transformations on the extracted features, followed by a Dropout layer to prevent overfitting by randomly disabling 50% of the neurons.\n",
    "Output Layer: A final Dense layer with 2 neurons and softmax activation to produce probabilities for the two classes (can fly, cannot fly)."
   ]
  },
  {
   "cell_type": "code",
   "execution_count": 9,
   "metadata": {
    "colab": {
     "base_uri": "https://localhost:8080/"
    },
    "id": "BneyCgT1PY9B",
    "outputId": "21888634-0541-439c-b7ac-484ee4a5f809"
   },
   "outputs": [
    {
     "name": "stdout",
     "output_type": "stream",
     "text": [
      "Epoch 1/20\n",
      "625/625 [==============================] - 65s 101ms/step - loss: 0.4300 - accuracy: 0.8201 - val_loss: 0.3718 - val_accuracy: 0.8421\n",
      "Epoch 2/20\n",
      "625/625 [==============================] - 57s 91ms/step - loss: 0.3571 - accuracy: 0.8529 - val_loss: 0.3471 - val_accuracy: 0.8506\n",
      "Epoch 3/20\n",
      "625/625 [==============================] - 56s 90ms/step - loss: 0.3172 - accuracy: 0.8712 - val_loss: 0.2980 - val_accuracy: 0.8815\n",
      "Epoch 4/20\n",
      "625/625 [==============================] - 60s 96ms/step - loss: 0.2902 - accuracy: 0.8822 - val_loss: 0.2813 - val_accuracy: 0.8889\n",
      "Epoch 5/20\n",
      "625/625 [==============================] - 56s 89ms/step - loss: 0.2616 - accuracy: 0.8955 - val_loss: 0.2949 - val_accuracy: 0.8800\n",
      "Epoch 6/20\n",
      "625/625 [==============================] - 56s 89ms/step - loss: 0.2400 - accuracy: 0.9040 - val_loss: 0.2762 - val_accuracy: 0.8917\n",
      "Epoch 7/20\n",
      "625/625 [==============================] - 71s 113ms/step - loss: 0.2187 - accuracy: 0.9122 - val_loss: 0.2956 - val_accuracy: 0.8847\n",
      "Epoch 8/20\n",
      "625/625 [==============================] - 58s 93ms/step - loss: 0.1990 - accuracy: 0.9208 - val_loss: 0.2768 - val_accuracy: 0.8895\n",
      "Epoch 9/20\n",
      "625/625 [==============================] - 56s 90ms/step - loss: 0.1738 - accuracy: 0.9312 - val_loss: 0.3043 - val_accuracy: 0.8916\n",
      "Epoch 10/20\n",
      "625/625 [==============================] - 61s 97ms/step - loss: 0.1581 - accuracy: 0.9370 - val_loss: 0.3038 - val_accuracy: 0.8864\n",
      "Epoch 11/20\n",
      "625/625 [==============================] - 58s 93ms/step - loss: 0.1420 - accuracy: 0.9433 - val_loss: 0.3012 - val_accuracy: 0.8914\n",
      "Epoch 12/20\n",
      "625/625 [==============================] - 58s 93ms/step - loss: 0.1226 - accuracy: 0.9502 - val_loss: 0.3306 - val_accuracy: 0.8957\n",
      "Epoch 13/20\n",
      "625/625 [==============================] - 57s 91ms/step - loss: 0.1087 - accuracy: 0.9574 - val_loss: 0.3601 - val_accuracy: 0.8902\n",
      "Epoch 14/20\n",
      "625/625 [==============================] - 58s 93ms/step - loss: 0.0957 - accuracy: 0.9623 - val_loss: 0.4035 - val_accuracy: 0.8946\n",
      "Epoch 15/20\n",
      "625/625 [==============================] - 57s 91ms/step - loss: 0.0836 - accuracy: 0.9681 - val_loss: 0.4088 - val_accuracy: 0.8936\n",
      "Epoch 16/20\n",
      "625/625 [==============================] - 60s 96ms/step - loss: 0.0753 - accuracy: 0.9708 - val_loss: 0.4437 - val_accuracy: 0.8932\n",
      "Epoch 17/20\n",
      "625/625 [==============================] - 56s 90ms/step - loss: 0.0689 - accuracy: 0.9735 - val_loss: 0.4340 - val_accuracy: 0.8858\n",
      "Epoch 18/20\n",
      "625/625 [==============================] - 58s 93ms/step - loss: 0.0604 - accuracy: 0.9775 - val_loss: 0.4865 - val_accuracy: 0.8934\n",
      "Epoch 19/20\n",
      "625/625 [==============================] - 58s 93ms/step - loss: 0.0563 - accuracy: 0.9785 - val_loss: 0.5258 - val_accuracy: 0.8908\n",
      "Epoch 20/20\n",
      "625/625 [==============================] - 58s 92ms/step - loss: 0.0554 - accuracy: 0.9790 - val_loss: 0.5780 - val_accuracy: 0.8764\n"
     ]
    }
   ],
   "source": [
    "history = model.fit(x_train, y_train_bin, epochs=20, batch_size=64, validation_split=0.2)\n"
   ]
  },
  {
   "cell_type": "markdown",
   "metadata": {},
   "source": [
    "This code trains the previously defined CNN model on the CIFAR-10 dataset for 20 epochs with a batch size of 64 and a validation split of 20%. The training and validation accuracy and loss are monitored to evaluate the model's performance.\n",
    "\n",
    "The results show a gradual improvement in accuracy and a reduction in loss over the epochs, indicating effective learning by the model. However, occasional increases in validation loss suggest potential overfitting. The final epoch demonstrates an accuracy of around 97.90% on the training data and 89.57% on the validation data."
   ]
  },
  {
   "cell_type": "code",
   "execution_count": 10,
   "metadata": {
    "colab": {
     "base_uri": "https://localhost:8080/",
     "height": 651
    },
    "id": "zfRPhHy3PaoI",
    "outputId": "2eaec60b-70b5-4382-d48a-b545614bfd1a"
   },
   "outputs": [
    {
     "name": "stdout",
     "output_type": "stream",
     "text": [
      "313/313 [==============================] - 4s 13ms/step\n",
      "Precision: 0.6729\n",
      "Recall: 0.7200\n",
      "F1 Score: 0.6957\n",
      "Accuracy: 0.8740\n"
     ]
    },
    {
     "data": {
      "image/png": "[encoded data removed]",
      "text/plain": [
       "<Figure size 800x600 with 2 Axes>"
      ]
     },
     "metadata": {},
     "output_type": "display_data"
    }
   ],
   "source": [
    "# Predict on the test set\n",
    "y_pred_prob = model.predict(x_test)\n",
    "y_pred = np.argmax(y_pred_prob, axis=1)\n",
    "y_true = np.argmax(y_test_bin, axis=1)\n",
    "\n",
    "# Calculate evaluation metrics\n",
    "precision = precision_score(y_true, y_pred)\n",
    "recall = recall_score(y_true, y_pred)\n",
    "f1 = f1_score(y_true, y_pred)\n",
    "accuracy = accuracy_score(y_true, y_pred)\n",
    "\n",
    "print(f\"Precision: {precision:.4f}\")\n",
    "print(f\"Recall: {recall:.4f}\")\n",
    "print(f\"F1 Score: {f1:.4f}\")\n",
    "print(f\"Accuracy: {accuracy:.4f}\")\n",
    "\n",
    "# Confusion Matrix\n",
    "cm = confusion_matrix(y_true, y_pred)\n",
    "plt.figure(figsize=(8, 6))\n",
    "sns.heatmap(cm, annot=True, fmt=\"d\", cmap=\"Blues\", xticklabels=['Cannot Fly', 'Can Fly'], yticklabels=['Cannot Fly', 'Can Fly'])\n",
    "plt.xlabel('Predicted')\n",
    "plt.ylabel('True')\n",
    "plt.title('Confusion Matrix')\n",
    "plt.show()\n"
   ]
  },
  {
   "cell_type": "markdown",
   "metadata": {},
   "source": [
    "This code evaluates the performance of the trained CNN model on the test set by predicting the labels and calculating various evaluation metrics. It also visualizes the performance using a confusion matrix.\n",
    "\n",
    "Prediction on Test Set: The model predicts the class probabilities for the test set, which are then converted to class labels.\n",
    "Evaluation Metrics: The precision, recall, F1 score, and accuracy are calculated to assess the model's performance on the test set.\n",
    "Confusion Matrix: A confusion matrix is generated and visualized using a heatmap to show the distribution of true vs. predicted labels, providing insight into the model's classification performance."
   ]
  }
 ],
 "metadata": {
  "colab": {
   "provenance": []
  },
  "kernelspec": {
   "display_name": "Python 3 (ipykernel)",
   "language": "python",
   "name": "python3"
  },
  "language_info": {
   "codemirror_mode": {
    "name": "ipython",
    "version": 3
   },
   "file_extension": ".py",
   "mimetype": "text/x-python",
   "name": "python",
   "nbconvert_exporter": "python",
   "pygments_lexer": "ipython3",
   "version": "3.9.13"
  }
 },
 "nbformat": 4,
 "nbformat_minor": 1
}
